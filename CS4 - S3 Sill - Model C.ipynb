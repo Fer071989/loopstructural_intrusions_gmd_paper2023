{
 "cells": [
  {
   "cell_type": "markdown",
   "metadata": {},
   "source": [
    "## Case Study 3 (CS3) - Sill Complex, Northwestern Australia\n",
    "### Model C - Built using our adaptation of the ODSIM (Henrion et al. 2008,2010) and structural frames (Grose et al. 2021).\n",
    "\n",
    "- Considers a sample of approximately a 0.1% of the original dataset (Koepping et al. 2022). These points were classified depending on their location as top, base and lateral contacts."
   ]
  },
  {
   "cell_type": "code",
   "execution_count": null,
   "metadata": {},
   "outputs": [],
   "source": [
    "import numpy as np\n",
    "import pandas as pd\n",
    "import matplotlib.pyplot as plt\n",
    "\n",
    "# Loop library\n",
    "from LoopStructural import GeologicalModel\n",
    "from LoopStructural.visualisation import LavaVuModelViewer "
   ]
  },
  {
   "cell_type": "code",
   "execution_count": null,
   "metadata": {},
   "outputs": [],
   "source": [
    "from datetime import datetime"
   ]
  },
  {
   "cell_type": "code",
   "execution_count": null,
   "metadata": {},
   "outputs": [],
   "source": [
    "lower_extent = [189000, 7775000, -12000]\n",
    "upper_extent = [196350, 7790050, -8500]"
   ]
  },
  {
   "cell_type": "markdown",
   "metadata": {},
   "source": [
    "#### 1. Load data"
   ]
  },
  {
   "cell_type": "markdown",
   "metadata": {},
   "source": [
    "##### Input DataFrame description\n",
    "> feature_name = name of the geological feature to be modelled. Faults 3 and 6 are the marginal faults that facilitated the emplacement of the inward-dipping outer sills\n",
    "\n",
    "> (X, Y, Z) = data points location\n",
    "\n",
    "> coord = structural frame coordinate\n",
    "\n",
    "> val = values of the scalar field for interpolation of geological features\n",
    "\n",
    "> (gx, gy, gz) = gradients of structural frame scalar fields\n",
    "\n",
    "> intrusion_contact_type = roof/top or floor/base\n",
    "\n",
    "> intrusion_side = TRUE if lateral contact, blank if not\n",
    "\n",
    "> intrusion_anisotropy = name of geological feature in contact with intrusion (i.e. fault or stratigraphic unit)"
   ]
  },
  {
   "cell_type": "code",
   "execution_count": null,
   "metadata": {},
   "outputs": [],
   "source": [
    "model_data = pd.read_csv('S3 Sill - Model C.csv')\n",
    "sill_data = model_data[model_data['feature_name'] == 'S3'].copy()\n",
    "\n",
    "model_data.head()"
   ]
  },
  {
   "cell_type": "markdown",
   "metadata": {},
   "source": [
    "#### 2. Define conceptual model function to constraint lateral and vertical extent\n",
    "\n",
    "These conceptual models are used to constraint the simulation of the intrusion lateral and vertical extent."
   ]
  },
  {
   "cell_type": "code",
   "execution_count": null,
   "metadata": {},
   "outputs": [],
   "source": [
    "def ellipse_function(\n",
    "    lateral_contact_data = pd.DataFrame() , model = False, minP=None, maxP=None, minS=None, maxS=None\n",
    "):\n",
    "    \n",
    "    if lateral_contact_data.empty:\n",
    "        return model, minP, maxP, minS, maxS\n",
    "    else:\n",
    "        if minP == None:\n",
    "            minP = lateral_contact_data[\"coord1\"].min()\n",
    "        if maxP == None:\n",
    "            maxP = lateral_contact_data[\"coord1\"].max()\n",
    "        if minS == None:\n",
    "            minS = lateral_contact_data[\"coord2\"].abs().min()\n",
    "        if maxS == None:\n",
    "            maxS = lateral_contact_data[\"coord2\"].max()\n",
    "\n",
    "        a = (maxP - minP) / 2\n",
    "        b = (maxS - minS) / 2\n",
    "\n",
    "        po = minP + (maxP - minP) / 2\n",
    "\n",
    "        p_locations = lateral_contact_data.loc[:, \"coord1\"].copy().to_numpy()\n",
    "\n",
    "        s = np.zeros([len(p_locations), 2])\n",
    "\n",
    "        s[np.logical_and(p_locations>minP, p_locations<maxP),0] =  b * np.sqrt(1 - np.power((p_locations[np.logical_and(p_locations>minP, p_locations<maxP)] - po) / a, 2)) \n",
    "        s[np.logical_and(p_locations>minP, p_locations<maxP),1] =  -b * np.sqrt(1 - np.power((p_locations[np.logical_and(p_locations>minP, p_locations<maxP)] - po) / a, 2)) \n",
    "\n",
    "        return s\n",
    "\n",
    "def constant_function(\n",
    "    othercontact_data = pd.DataFrame(),\n",
    "    mean_growth=None, \n",
    "    minP=None, \n",
    "    maxP=None, \n",
    "    minS=None, \n",
    "    maxS=None, \n",
    "    vertex=None):\n",
    "    \n",
    "    if othercontact_data.empty:\n",
    "        return mean_growth\n",
    "    \n",
    "    if mean_growth == None:\n",
    "        mean_growth = othercontact_data.loc[:,'coord0'].mean()\n",
    "        \n",
    "    data_ps = np.array([othercontact_data.loc[:,'coord1'], othercontact_data.loc[:,'coord2']]).T\n",
    "    \n",
    "    conceptual_growth = np.ones([len(data_ps),2]) * mean_growth\n",
    "    \n",
    "    return conceptual_growth"
   ]
  },
  {
   "cell_type": "markdown",
   "metadata": {},
   "source": [
    "#### 3. Create geological model"
   ]
  },
  {
   "cell_type": "code",
   "execution_count": null,
   "metadata": {},
   "outputs": [],
   "source": [
    "datetime.now().isoformat(timespec='seconds')   "
   ]
  },
  {
   "cell_type": "code",
   "execution_count": null,
   "metadata": {
    "tags": []
   },
   "outputs": [],
   "source": [
    "# Create Geological Model\n",
    "\n",
    "model = GeologicalModel(lower_extent,upper_extent)\n",
    "displacement = 0\n",
    "# model.nsteps = [40,40,150]\n",
    "model.data = model_data\n",
    "\n",
    "fault3 = model.create_and_add_fault('fault_3',displacement,nelements=2000,steps=1,interpolatortype='FDI',buffer=0.3)\n",
    "fault6 = model.create_and_add_fault('fault_6',displacement,nelements=2000,steps=1,interpolatortype='FDI',buffer=0.3)\n",
    "fault7 = model.create_and_add_fault('fault_7',displacement,nelements=2000,steps=1,interpolatortype='FDI',buffer=0.3)\n",
    "\n",
    "conformable_feature = model.create_and_add_foliation('stratigraphy', nelements = 3000, solver = 'lu', interpolatortype = 'FDI')\n",
    "\n",
    "intrusion_frame_parameters = {'type' : 'interpolated' , \n",
    "                              'contact' :'floor',\n",
    "                              'contact_anisotropies':[conformable_feature]}\n",
    "\n",
    "print(datetime.now().isoformat(timespec='seconds'))\n",
    "\n",
    "S3_Sill = model.create_and_add_intrusion('S3', intrusion_frame_name = 'S3 frame',\n",
    "                                         intrusion_lateral_extent_model = ellipse_function,\n",
    "                                         intrusion_vertical_extent_model = constant_function,\n",
    "                                         intrusion_frame_parameters = intrusion_frame_parameters,\n",
    "                                        interpolatortype = 'FDI')\n",
    "\n",
    "print(datetime.now().isoformat(timespec='seconds'))"
   ]
  },
  {
   "cell_type": "code",
   "execution_count": null,
   "metadata": {},
   "outputs": [],
   "source": [
    "nn = 100 # improve model resolution by changing this value\n",
    "model.nsteps = [nn,nn,nn*2]"
   ]
  },
  {
   "cell_type": "code",
   "execution_count": null,
   "metadata": {},
   "outputs": [],
   "source": [
    "from datetime import datetime\n",
    "datetime.now().isoformat(timespec='seconds')   "
   ]
  },
  {
   "cell_type": "code",
   "execution_count": null,
   "metadata": {},
   "outputs": [],
   "source": [
    "viewer = LavaVuModelViewer(model, background='white')\n",
    "\n",
    "viewer.add_points(sill_data.loc[:,['X','Y','Z']].to_numpy(), name = 'S3 sill data', pointsize = 5)\n",
    "\n",
    "# add stratigraphy\n",
    "viewer.add_isosurface(conformable_feature, isovalue = 0, colour = 'grey')\n",
    "\n",
    "# add faults\n",
    "viewer.add_isosurface(fault3[0], isovalue = 0, colour = 'blue')\n",
    "viewer.add_isosurface(fault6[0], isovalue = 0, colour = 'deepblue')\n",
    "viewer.add_isosurface(fault7[0], isovalue = 0, colour = 'blue')\n",
    "\n",
    "# add intrusion\n",
    "viewer.add_isosurface(S3_Sill, isovalue = 0, colour = 'red')\n",
    "viewer.ymin = 0\n",
    "viewer.xmin = 0\n",
    "viewer.ymax = 1\n",
    "viewer.xmax = 1\n",
    "viewer.rotate([-46.267, -38.008, -17.659])\n",
    "viewer.interactive()"
   ]
  },
  {
   "cell_type": "code",
   "execution_count": null,
   "metadata": {},
   "outputs": [],
   "source": [
    "datetime.now().isoformat(timespec='seconds')   "
   ]
  },
  {
   "cell_type": "code",
   "execution_count": null,
   "metadata": {},
   "outputs": [],
   "source": []
  }
 ],
 "metadata": {
  "kernelspec": {
   "display_name": "Python 3 (ipykernel)",
   "language": "python",
   "name": "python3"
  },
  "language_info": {
   "codemirror_mode": {
    "name": "ipython",
    "version": 3
   },
   "file_extension": ".py",
   "mimetype": "text/x-python",
   "name": "python",
   "nbconvert_exporter": "python",
   "pygments_lexer": "ipython3",
   "version": "3.9.16"
  }
 },
 "nbformat": 4,
 "nbformat_minor": 4
}
