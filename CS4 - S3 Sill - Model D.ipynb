{
 "cells": [
  {
   "cell_type": "markdown",
   "metadata": {},
   "source": [
    "## Case Study 3 (CS3) - Sill Complex, Northwestern Australia\n",
    "### Model D - Built using our adaption of the ODSIM (Henrion et al. 2008,2010) and structural frames (Grose et al. 2021).\n",
    "- Considers a sample of approximately a 0.1% of the original dataset (Koepping et al. 2021). These points were classified depending on their location as top, base and lateral contacts. \n",
    "- Compared to Model C, Model D considers the emplacement model proposed by Koepping et al. (2021). The emplacement model is simplified as two sill propagating to the north and south of a central fault (interpreted as the feeder). Transgresive outer sills are controled by marginal faults."
   ]
  },
  {
   "cell_type": "code",
   "execution_count": null,
   "metadata": {},
   "outputs": [],
   "source": [
    "import numpy as np\n",
    "import pandas as pd\n",
    "import matplotlib.pyplot as plt\n",
    "\n",
    "# Loop library\n",
    "from LoopStructural import GeologicalModel\n",
    "from LoopStructural.visualisation import LavaVuModelViewer "
   ]
  },
  {
   "cell_type": "code",
   "execution_count": null,
   "metadata": {},
   "outputs": [],
   "source": [
    "lower_extent = [189000, 7775000, -12000]\n",
    "upper_extent = [196350, 7790050, -8500]"
   ]
  },
  {
   "cell_type": "markdown",
   "metadata": {},
   "source": [
    "#### 1. Load data"
   ]
  },
  {
   "cell_type": "markdown",
   "metadata": {
    "tags": []
   },
   "source": [
    "##### Input DataFrame description\n",
    "> feature_name = name of the geological feature to be modelled. Faults 3 and 6 are the marginal faults that facilitated the emplacement of the inward-dipping outer sills\n",
    "\n",
    "> (X, Y, Z) = data points location\n",
    "\n",
    "> coord = structural frame coordinate\n",
    "\n",
    "> val = values of the scalar field for interpolation of geological features\n",
    "\n",
    "> (gx, gy, gz) = gradients of structural frame scalar fields\n",
    "\n",
    "> intrusion_contact_type = roof/top or floor/base\n",
    "\n",
    "> intrusion_side = TRUE if lateral contact, blank if not\n",
    "\n",
    "> intrusion_anisotropy = name of geological feature in contact with intrusion (i.e. fault or stratigraphic unit)"
   ]
  },
  {
   "cell_type": "code",
   "execution_count": null,
   "metadata": {},
   "outputs": [],
   "source": [
    "model_data = pd.read_csv('S3 Sill - Model D.csv')\n",
    "northern_sill_data = model_data[model_data['feature_name'] == 'S3 northern sill'].copy()\n",
    "southern_sill_data = model_data[model_data['feature_name'] == 'S3 southern sill'].copy()\n",
    "\n",
    "model_data.head()"
   ]
  },
  {
   "cell_type": "markdown",
   "metadata": {},
   "source": [
    "#### 2. Define conceptual model function to constraint lateral and vertical extent\n",
    "\n",
    "These conceptual models are used to constraint the simulation of the intrusion lateral and vertical extent."
   ]
  },
  {
   "cell_type": "code",
   "execution_count": null,
   "metadata": {
    "tags": []
   },
   "outputs": [],
   "source": [
    "def ellipse_function(\n",
    "    lateral_contact_data = pd.DataFrame() , model = False, minP=None, maxP=None, minS=None, maxS=None\n",
    "):\n",
    "    \n",
    "    if lateral_contact_data.empty:\n",
    "        return model, minP, maxP, minS, maxS\n",
    "    else:\n",
    "        if minP == None:\n",
    "            minP = lateral_contact_data[\"coord1\"].min()\n",
    "        if maxP == None:\n",
    "            maxP = lateral_contact_data[\"coord1\"].max()\n",
    "        if minS == None:\n",
    "            minS = lateral_contact_data[\"coord2\"].abs().min()\n",
    "        if maxS == None:\n",
    "            maxS = lateral_contact_data[\"coord2\"].max()\n",
    "\n",
    "        a = (maxP - minP) / 2\n",
    "        b = (maxS - minS) / 2\n",
    "\n",
    "        po = minP + (maxP - minP) / 2\n",
    "\n",
    "        p_locations = lateral_contact_data.loc[:, \"coord1\"].copy().to_numpy()\n",
    "\n",
    "        s = np.zeros([len(p_locations), 2])\n",
    "\n",
    "        s[np.logical_and(p_locations>minP, p_locations<maxP),0] =  b * np.sqrt(1 - np.power((p_locations[np.logical_and(p_locations>minP, p_locations<maxP)] - po) / a, 2)) \n",
    "        s[np.logical_and(p_locations>minP, p_locations<maxP),1] =  -b * np.sqrt(1 - np.power((p_locations[np.logical_and(p_locations>minP, p_locations<maxP)] - po) / a, 2)) \n",
    "\n",
    "        return s\n",
    "\n",
    "\n",
    "def constant_function(\n",
    "    othercontact_data = pd.DataFrame(),\n",
    "    mean_growth=None, \n",
    "    minP=None, \n",
    "    maxP=None, \n",
    "    minS=None, \n",
    "    maxS=None, \n",
    "    vertex=None):\n",
    "    \n",
    "    if othercontact_data.empty:\n",
    "        return mean_growth\n",
    "    \n",
    "    if mean_growth == None:\n",
    "        mean_growth = othercontact_data.loc[:,'coord0'].mean()\n",
    "        \n",
    "    data_ps = np.array([othercontact_data.loc[:,'coord1'], othercontact_data.loc[:,'coord2']]).T\n",
    "    \n",
    "    conceptual_growth = np.ones([len(data_ps),2]) * mean_growth\n",
    "    \n",
    "    return conceptual_growth"
   ]
  },
  {
   "cell_type": "markdown",
   "metadata": {},
   "source": [
    "#### 3. Create geological model"
   ]
  },
  {
   "cell_type": "code",
   "execution_count": null,
   "metadata": {
    "tags": []
   },
   "outputs": [],
   "source": [
    "#functions for visualization of faults\n",
    "\n",
    "def fault3_extent(points):\n",
    "    # points: array ([x,y,z])\n",
    "    # maximum y value is scaled to model\n",
    "    mask = np.zeros(len(points)).astype(bool)\n",
    "    mask[points[:,1]< 9424.15] = 1\n",
    "    \n",
    "    return mask\n",
    "\n",
    "def fault7_extent(points):\n",
    "    # points: array ([x,y,z])\n",
    "    # minimum and maximum x values are scaled to model\n",
    "    mask1 = np.zeros(len(points)).astype(bool)\n",
    "    mask2 = np.zeros(len(points)).astype(bool)\n",
    "    mask1[points[:,0]> 3400.75] = 1\n",
    "    mask2[points[:,0]< 6924.82] = 1\n",
    "    return mask1 * mask2"
   ]
  },
  {
   "cell_type": "code",
   "execution_count": null,
   "metadata": {
    "tags": []
   },
   "outputs": [],
   "source": [
    "# # Create Geological Model of pre-intrusion geology\n",
    "\n",
    "model = GeologicalModel(lower_extent,upper_extent)\n",
    "displacement = 0\n",
    "# model.nsteps = [50,50,150]\n",
    "model.data = model_data\n",
    "\n",
    "fault3 = model.create_and_add_fault('fault_3',displacement,nelements=2000,steps=1,interpolatortype='FDI',buffer=0.3)\n",
    "fault6 = model.create_and_add_fault('fault_6',displacement,nelements=2000,steps=1,interpolatortype='FDI',buffer=0.3)\n",
    "fault7 = model.create_and_add_fault('fault_7',displacement,nelements=2000,steps=1,interpolatortype='FDI',buffer=0.3)\n",
    "\n",
    "conformable_feature = model.create_and_add_foliation('stratigraphy', nelements = 3000, solver = 'lu', interpolatortype = 'FDI')\n",
    "\n",
    "# Visualization of pre-intrusion geology\n",
    "\n",
    "viewer_geo = LavaVuModelViewer(model, background='white')\n",
    "\n",
    "# add stratigraphy\n",
    "viewer_geo.add_isosurface(conformable_feature, isovalue = 0, colour = 'grey')\n",
    "\n",
    "# add faults\n",
    "viewer_geo.add_isosurface(fault3[0], isovalue = 0, colour = 'blue', region = fault3_extent)\n",
    "viewer_geo.add_isosurface(fault6[0], isovalue = 0, colour = 'deepblue')\n",
    "viewer_geo.add_isosurface(fault7[0], isovalue = 0, colour = 'lightblue',region = fault7_extent)\n",
    "\n",
    "viewer_geo.add_points(northern_sill_data.loc[:,['X','Y','Z']].to_numpy(), name ='northern sill contact data', colour = 'black', pointsize = 6)\n",
    "viewer_geo.add_points(southern_sill_data.loc[:,['X','Y','Z']].to_numpy(), name ='southern sill contact data', colour = 'black', pointsize = 6)\n",
    "\n",
    "viewer_geo.interactive()"
   ]
  },
  {
   "cell_type": "code",
   "execution_count": null,
   "metadata": {},
   "outputs": [],
   "source": [
    "stratigraphic_column = {}\n",
    "stratigraphic_column['stratigraphy'] = {}\n",
    "stratigraphic_column['stratigraphy']['Unit_0'] = {'min':-100,'max':5,'id':0}\n",
    "stratigraphic_column['stratigraphy']['Unit_1'] = {'min':5,'max':40,'id':1}\n",
    "model.set_stratigraphic_column(stratigraphic_column)"
   ]
  },
  {
   "cell_type": "code",
   "execution_count": null,
   "metadata": {},
   "outputs": [],
   "source": [
    "def faults_3_6_footwall_fx(xyz):\n",
    "    fault_3_fw = fault3[0].evaluate_value(xyz)\n",
    "    ftwall = np.logical_not(fault_3_fw<0)\n",
    "    return ftwall"
   ]
  },
  {
   "cell_type": "code",
   "execution_count": null,
   "metadata": {},
   "outputs": [],
   "source": [
    "from datetime import datetime\n",
    "datetime.now().isoformat(timespec='seconds')   "
   ]
  },
  {
   "cell_type": "code",
   "execution_count": null,
   "metadata": {
    "tags": []
   },
   "outputs": [],
   "source": [
    "# # Add intrusions\n",
    "\n",
    "intrusion_frame_parameters = {'contact' :'floor', \n",
    "                              'contact_anisotropies' : [conformable_feature],\n",
    "                              'delta_c' : [[1,0.1]],\n",
    "                              'delta_f' : [0.005],\n",
    "                              'g_w':1e-3\n",
    "                             }\n",
    "\n",
    "intrusion_steps = {}\n",
    "intrusion_steps['step1'] = {'structure' : fault6, \n",
    "                            'unit_from' : 'Unit_0', 'series_from': conformable_feature,\n",
    "                            'unit_to' : 'Unit_1','series_to': conformable_feature}\n",
    "\n",
    "intrusion_frame_parameters['intrusion_steps'] = intrusion_steps\n",
    "\n",
    "print(datetime.now().isoformat(timespec='seconds'))\n",
    "\n",
    "\n",
    "Northern_Sill = model.create_and_add_intrusion('S3 northern sill', intrusion_frame_name = 'S3 northern sill frame',\n",
    "                                               intrusion_lateral_extent_model = ellipse_function,\n",
    "                                               intrusion_vertical_extent_model = constant_function,\n",
    "                                               intrusion_frame_parameters = intrusion_frame_parameters,\n",
    "                                              interpolatortype = 'FDI')\n",
    "\n",
    "print(datetime.now().isoformat(timespec='seconds'))\n",
    "\n",
    "\n",
    "intrusion_frame_parameters = {'type' : 'interpolated' , 'contact' :'floor', \n",
    "                              'contact_anisotropies' : [conformable_feature],\n",
    "                              'delta_c' : [[0.5,0.05], [0,0.05]],\n",
    "                              'delta_f' : [1, .1],\n",
    "                              # 'g_w':1e-4\n",
    "                              \n",
    "                             }\n",
    "\n",
    "intrusion_steps = {}\n",
    "intrusion_steps['step1'] = {'structure' : fault6, \n",
    "                            'unit_from' : 'Unit_0', 'series_from': conformable_feature,\n",
    "                            'unit_to' : 'Unit_1','series_to': conformable_feature,\n",
    "                            'region': faults_3_6_footwall_fx,\n",
    "                           }\n",
    "intrusion_steps['step2'] = {'structure' : fault3, \n",
    "                            'unit_from' : 'Unit_0', 'series_from': conformable_feature,\n",
    "                            'unit_to' : 'Unit_1','series_to': conformable_feature}\n",
    "\n",
    "intrusion_frame_parameters['intrusion_steps'] = intrusion_steps\n",
    "\n",
    "print(datetime.now().isoformat(timespec='seconds'))\n",
    "\n",
    "Southern_Sill = model.create_and_add_intrusion('S3 southern sill', intrusion_frame_name = 'S3 southern sill frame',\n",
    "                                               intrusion_lateral_extent_model = ellipse_function,\n",
    "                                               intrusion_vertical_extent_model = constant_function,\n",
    "                                               intrusion_frame_parameters = intrusion_frame_parameters,\n",
    "                                               interpolatortype = 'FDI')\n",
    "\n",
    "print(datetime.now().isoformat(timespec='seconds'))"
   ]
  },
  {
   "cell_type": "code",
   "execution_count": null,
   "metadata": {},
   "outputs": [],
   "source": [
    "roof_data = southern_sill_data[southern_sill_data['intrusion_contact_type'] == 'roof'].copy()\n",
    "floor_data = southern_sill_data[southern_sill_data['intrusion_contact_type'] == 'floor'].copy()"
   ]
  },
  {
   "cell_type": "code",
   "execution_count": null,
   "metadata": {},
   "outputs": [],
   "source": [
    "intrusion_frame =Northern_Sill.intrusion_frame\n",
    "\n",
    "viewer = LavaVuModelViewer(model, background='white')\n",
    "# viewer.nsteps = [25,25,25]\n",
    "\n",
    "viewer.add_isosurface(fault6[0], isovalue = 0, colour = 'deepblue')\n",
    "viewer.add_isosurface(fault3[0], isovalue = 0, colour = 'deepblue')\n",
    "# viewer.add_points(roof_data.loc[:,['X','Y','Z']].to_numpy(), name = 'roof sill data', pointsize = 5, colour = 'green')\n",
    "# viewer.add_points(floor_data.loc[:,['X','Y','Z']].to_numpy(), name = 'floor sill data', pointsize = 5, colour = 'blue')\n",
    "\n",
    "# # # add stratigraphy\n",
    "viewer.add_isosurface(intrusion_frame[0], isovalue = 0, colour = 'red')\n",
    "# viewer.add_isosurface(intrusion_frame[1], isovalue = 0, colour = 'blue')\n",
    "# viewer.add_isosurface(intrusion_frame[2], isovalue = 0, colour = 'green')\n",
    "viewer.add_data(intrusion_frame[0])\n",
    "# \n",
    "# viewer.add_isosurface(conformable_feature, isovalue = 0, colour = 'grey')\n",
    "\n",
    "\n",
    "viewer.ymin = 0\n",
    "viewer.xmin = 0\n",
    "viewer.ymax = 1\n",
    "viewer.xmax = 1\n",
    "viewer.interactive()"
   ]
  },
  {
   "cell_type": "code",
   "execution_count": null,
   "metadata": {},
   "outputs": [],
   "source": [
    "nn = 100 # improve model resolution by changing this value\n",
    "model.nsteps = [nn,nn,nn*5]"
   ]
  },
  {
   "cell_type": "code",
   "execution_count": null,
   "metadata": {},
   "outputs": [],
   "source": [
    "datetime.now().isoformat(timespec='seconds')   "
   ]
  },
  {
   "cell_type": "code",
   "execution_count": null,
   "metadata": {},
   "outputs": [],
   "source": [
    "viewer = LavaVuModelViewer(model, background='white')\n",
    "\n",
    "viewer.add_points(northern_sill_data.loc[:,['X','Y','Z']].to_numpy(), name = 'Northern sill data', pointsize = 5)\n",
    "viewer.add_points(southern_sill_data.loc[:,['X','Y','Z']].to_numpy(), name = 'Southern sill data', pointsize = 5)\n",
    "\n",
    "# viewer.add_points(roof_data.loc[:,['X','Y','Z']].to_numpy(), name = 'roof sill data', pointsize = 5, colour = 'green')\n",
    "# viewer.add_points(floor_data.loc[:,['X','Y','Z']].to_numpy(), name = 'floor sill data', pointsize = 5, colour = 'blue')\n",
    "\n",
    "# # add stratigraphy\n",
    "viewer.add_isosurface(conformable_feature, isovalue = 0, colour = 'grey')\n",
    "\n",
    "# # # add faults\n",
    "viewer.add_isosurface(fault3[0], isovalue = 0, colour = 'blue')\n",
    "viewer.add_isosurface(fault6[0], isovalue = 0, colour = 'deepblue')\n",
    "viewer.add_isosurface(fault7[0], isovalue = 0, colour = 'lightblue')\n",
    "\n",
    "\n",
    "# # add intrusion\n",
    "viewer.add_isosurface(Northern_Sill, isovalue = 0, colour = 'red')\n",
    "viewer.add_isosurface(Southern_Sill, isovalue = 0, colour = 'red')\n",
    "viewer.ymin = 0\n",
    "viewer.xmin = 0\n",
    "viewer.zmin = 0\n",
    "viewer.ymax = 1\n",
    "viewer.xmax = 1\n",
    "viewer.zmax = 1\n",
    "viewer.interactive()"
   ]
  },
  {
   "cell_type": "code",
   "execution_count": null,
   "metadata": {},
   "outputs": [],
   "source": [
    "datetime.now().isoformat(timespec='seconds')   "
   ]
  },
  {
   "cell_type": "code",
   "execution_count": null,
   "metadata": {},
   "outputs": [],
   "source": []
  }
 ],
 "metadata": {
  "kernelspec": {
   "display_name": "Python 3 (ipykernel)",
   "language": "python",
   "name": "python3"
  },
  "language_info": {
   "codemirror_mode": {
    "name": "ipython",
    "version": 3
   },
   "file_extension": ".py",
   "mimetype": "text/x-python",
   "name": "python",
   "nbconvert_exporter": "python",
   "pygments_lexer": "ipython3",
   "version": "3.9.16"
  }
 },
 "nbformat": 4,
 "nbformat_minor": 4
}
