{
 "cells": [
  {
   "cell_type": "markdown",
   "metadata": {},
   "source": [
    "## Case Study 3 (CS3) - Sill Complex, Northwestern Australia\n",
    "### Models A and B - Built using Radial Basis Function (RBF) interpolation\n",
    "\n",
    "Models A and B were built using LoopStructural (Grose et al., 2021), specifically the *SurfE* interpolator (https://github.com/MichaelHillier/surfe). SurfE implements a generalized radial basis function interpolator (Hillier et al., 2014). Radial basis function interpolation is a meshless interpolation, and the scalar field can be constrained with different types of data, including value and gradient constraints. Models A and B are built using the signed distance interpolation of SurfE (single surface method). \n",
    "\n",
    "- Model A considers a sample of approximately a 0.1% of the original dataset (Koepping et al. 2021), points used as value constraints. A selection of these points located in the strata concordant inner sill were used as planar constraints. \n",
    "- Model B includes, in addition to Model A data, 500+ value and gradient constraints."
   ]
  },
  {
   "cell_type": "code",
   "execution_count": null,
   "metadata": {},
   "outputs": [],
   "source": [
    "import numpy as np\n",
    "import pandas as pd\n",
    "import matplotlib.pyplot as plt\n",
    "\n",
    "# Loop library\n",
    "from LoopStructural import GeologicalModel\n",
    "from LoopStructural.visualisation import LavaVuModelViewer "
   ]
  },
  {
   "cell_type": "code",
   "execution_count": null,
   "metadata": {},
   "outputs": [],
   "source": [
    "lower_extent = [189000, 7775000, -11000]\n",
    "upper_extent = [196350, 7790050, -9000]"
   ]
  },
  {
   "cell_type": "markdown",
   "metadata": {},
   "source": [
    "### Model A"
   ]
  },
  {
   "cell_type": "markdown",
   "metadata": {},
   "source": [
    "#### 1. Load data"
   ]
  },
  {
   "cell_type": "markdown",
   "metadata": {
    "tags": []
   },
   "source": [
    "##### Input data description\n",
    "> feature_name = name of the geological feature to be modelled. Faults 3 and 6 are the marginal faults that facilitated the emplacement of the inward-dipping outer sills\n",
    "\n",
    "> (X, Y, Z) = data points location\n",
    "\n",
    "> coord = structural frame coordinate\n",
    "\n",
    "> val = values of the scalar field for interpolation of geological features\n",
    "\n",
    "> (gx, gy, gz) = gradients of structural frame scalar fields"
   ]
  },
  {
   "cell_type": "code",
   "execution_count": null,
   "metadata": {},
   "outputs": [],
   "source": [
    "model_data = pd.read_csv('S3 Sill - Model A.csv')\n",
    "intrusion_data = model_data[model_data['feature_name'] == 'S3'].copy()\n",
    "intrusion_data.head()"
   ]
  },
  {
   "cell_type": "markdown",
   "metadata": {},
   "source": [
    "#### 2. Create geological model"
   ]
  },
  {
   "cell_type": "code",
   "execution_count": null,
   "metadata": {
    "tags": []
   },
   "outputs": [],
   "source": [
    "nn = 90\n",
    "model = GeologicalModel(lower_extent,upper_extent)\n",
    "displacement = 0 # faults displacements (unknown, so set to 0)\n",
    "model.nsteps = [nn,nn,nn] #grid of the model\n",
    "model.data = model_data\n",
    "\n",
    "fault3 = model.create_and_add_fault('fault_3',displacement,nelements=2000,steps=1,interpolatortype='FDI',buffer=0.3)\n",
    "fault6 = model.create_and_add_fault('fault_6',displacement,nelements=2000,steps=1,interpolatortype='FDI',buffer=0.3)\n",
    "fault7 = model.create_and_add_fault('fault_7',displacement,nelements=2000,steps=1,interpolatortype='FDI',buffer=0.3)\n",
    "\n",
    "conformable_feature = model.create_and_add_foliation('stratigraphy', nelements = 3000, solver = 'lu', interpolatortype = 'FDI')\n",
    "\n",
    "S3_ModelA = model.create_and_add_foliation('S3', nelements=1e3, buffer=0.3, interpolatortype='surfe', cgw =1, npw = 0.1,\n",
    "                                           #anisotropy = True,\n",
    "                                           #regression_smoothing = -1,\n",
    "                                           #poly_order = 0\n",
    "                                          )"
   ]
  },
  {
   "cell_type": "code",
   "execution_count": null,
   "metadata": {},
   "outputs": [],
   "source": [
    "viewer = LavaVuModelViewer(model, background='white')\n",
    "\n",
    "viewer.add_points(intrusion_data.loc[:,['X','Y','Z']].to_numpy(), name = 'intrusion data', pointsize = 5)\n",
    "\n",
    "# add stratigraphy\n",
    "viewer.add_isosurface(conformable_feature, isovalue = 0, colour = 'grey')\n",
    "\n",
    "# add faults\n",
    "viewer.add_isosurface(fault3[0], isovalue = 0, colour = 'blue')\n",
    "viewer.add_isosurface(fault6[0], isovalue = 0, colour = 'deepblue')\n",
    "viewer.add_isosurface(fault7[0], isovalue = 0, colour = 'lightblue')\n",
    "\n",
    "# add intrusion\n",
    "viewer.add_isosurface(S3_ModelA, isovalue = 0, colour = 'red')\n",
    "viewer.add_data(S3_ModelA)\n",
    "viewer.add_section(axis = 'y', value = 11589)\n",
    "\n",
    "viewer.ymin = 0\n",
    "viewer.xmin = 0\n",
    "viewer.ymax = 1\n",
    "viewer.xmax = 1\n",
    "viewer.rotate([-46.267, -38.008, -17.659])\n",
    "viewer.interactive()"
   ]
  },
  {
   "cell_type": "markdown",
   "metadata": {},
   "source": [
    "### Model B\n",
    "\n",
    "#### 1. Load data"
   ]
  },
  {
   "cell_type": "code",
   "execution_count": null,
   "metadata": {},
   "outputs": [],
   "source": [
    "model_data = pd.read_csv('S3 Sill - Model B.csv')\n",
    "intrusion_data = model_data[model_data['feature_name'] == 'S3'].copy()\n",
    "intrusion_data.head()"
   ]
  },
  {
   "cell_type": "markdown",
   "metadata": {},
   "source": [
    "#### 2. Create geological model"
   ]
  },
  {
   "cell_type": "code",
   "execution_count": null,
   "metadata": {},
   "outputs": [],
   "source": [
    "nn = 90\n",
    "model = GeologicalModel(lower_extent,upper_extent)\n",
    "displacement = 0 # faults displacements (unknown, so set to 0)\n",
    "model.nsteps = [nn,nn,nn] #grid of the model\n",
    "model.data = model_data\n",
    "\n",
    "fault3 = model.create_and_add_fault('fault_3',displacement,nelements=2000,steps=1,interpolatortype='FDI',buffer=0.3)\n",
    "fault6 = model.create_and_add_fault('fault_6',displacement,nelements=2000,steps=1,interpolatortype='FDI',buffer=0.3)\n",
    "fault7 = model.create_and_add_fault('fault_7',displacement,nelements=2000,steps=1,interpolatortype='FDI',buffer=0.3)\n",
    "\n",
    "conformable_feature = model.create_and_add_foliation('stratigraphy', nelements = 3000, solver = 'lu', interpolatortype = 'FDI')\n",
    "\n",
    "S3_ModelB = model.create_and_add_foliation('S3', nelements=1e3, buffer=0.3, interpolatortype='surfe', cgw =1, npw = 0.1,\n",
    "                                           #anisotropy = True,\n",
    "                                           #regression_smoothing = -1,\n",
    "                                           #poly_order = 0\n",
    "                                          )"
   ]
  },
  {
   "cell_type": "code",
   "execution_count": null,
   "metadata": {},
   "outputs": [],
   "source": [
    "viewer = LavaVuModelViewer(model, background='white')\n",
    "\n",
    "viewer.add_points(intrusion_data.loc[:,['X','Y','Z']].to_numpy(), name = 'intrusion data', pointsize = 5)\n",
    "\n",
    "# add stratigraphy\n",
    "viewer.add_isosurface(conformable_feature, isovalue = 0, colour = 'grey')\n",
    "\n",
    "# add faults\n",
    "viewer.add_isosurface(fault3[0], isovalue = 0, colour = 'blue')\n",
    "viewer.add_isosurface(fault6[0], isovalue = 0, colour = 'deepblue')\n",
    "viewer.add_isosurface(fault7[0], isovalue = 0, colour = 'lightblue')\n",
    "\n",
    "# add intrusion\n",
    "viewer.add_isosurface(S3_ModelB, isovalue = 0, colour = 'red')\n",
    "viewer.add_data(S3_ModelB)\n",
    "\n",
    "viewer.add_section(axis = 'y', value = 11589)\n",
    "\n",
    "viewer.ymin = 0\n",
    "viewer.xmin = 0\n",
    "viewer.ymax = 1\n",
    "viewer.xmax = 1\n",
    "viewer.rotate([-46.267, -38.008, -17.659])\n",
    "viewer.interactive()"
   ]
  },
  {
   "cell_type": "code",
   "execution_count": null,
   "metadata": {},
   "outputs": [],
   "source": []
  }
 ],
 "metadata": {
  "kernelspec": {
   "display_name": "Python 3 (ipykernel)",
   "language": "python",
   "name": "python3"
  },
  "language_info": {
   "codemirror_mode": {
    "name": "ipython",
    "version": 3
   },
   "file_extension": ".py",
   "mimetype": "text/x-python",
   "name": "python",
   "nbconvert_exporter": "python",
   "pygments_lexer": "ipython3",
   "version": "3.9.16"
  }
 },
 "nbformat": 4,
 "nbformat_minor": 4
}
