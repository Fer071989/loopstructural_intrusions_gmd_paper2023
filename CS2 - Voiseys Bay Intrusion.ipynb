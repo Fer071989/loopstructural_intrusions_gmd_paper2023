{
 "cells": [
  {
   "cell_type": "markdown",
   "metadata": {},
   "source": [
    "# Case Study 2 - Voisey's Bay Intrusion, Labrador, Canada\n",
    "- Data from Saumur and Cruden (2015) - On the emplacement of the Voisey’s Bay intrusion (Labrador, Canada)\n",
    "- Roof data picked at random points on the geological map, and floor data picked from drill holes in cross-sections"
   ]
  },
  {
   "cell_type": "code",
   "execution_count": null,
   "metadata": {},
   "outputs": [],
   "source": [
    "import numpy as np\n",
    "import pandas as pd\n",
    "import matplotlib.pyplot as plt\n",
    "\n",
    "# Loop library\n",
    "from LoopStructural import GeologicalModel\n",
    "from LoopStructural.visualisation import LavaVuModelViewer \n",
    "# from LoopStructural.modelling.intrusions import ellipse_function, parallelepiped_function"
   ]
  },
  {
   "cell_type": "code",
   "execution_count": null,
   "metadata": {},
   "outputs": [],
   "source": [
    "from datetime import datetime"
   ]
  },
  {
   "cell_type": "code",
   "execution_count": null,
   "metadata": {},
   "outputs": [],
   "source": [
    "lower_extent = [554800.0,6239650,-3000]\n",
    "upper_extent = [561000,6243500,500]"
   ]
  },
  {
   "cell_type": "markdown",
   "metadata": {},
   "source": [
    "## 1. Load data"
   ]
  },
  {
   "cell_type": "markdown",
   "metadata": {
    "tags": []
   },
   "source": [
    "### Input DataFrame description\n",
    "> feature_name = name of the geological feature to be modelled. \n",
    "\n",
    "> (X, Y, Z) = data points location\n",
    "\n",
    "> coord = structural frame coordinate\n",
    "\n",
    "> val = values of the scalar field for interpolation of geological features\n",
    "\n",
    "> (gx, gy, gz) = gradients of structural frame scalar fields\n",
    "\n",
    "> intrusion_contact_type = roof/top or floor/base\n",
    "\n",
    "> intrusion_side = TRUE if lateral contact, blank if not\n"
   ]
  },
  {
   "cell_type": "code",
   "execution_count": null,
   "metadata": {},
   "outputs": [],
   "source": [
    "model_data = pd.read_csv('Voiseys Bay Intrusion.csv')\n",
    "intrusion_data = model_data[model_data['feature_name'] == 'Voiseys Bay Intrusion'].copy()\n",
    "model_data.head()"
   ]
  },
  {
   "cell_type": "markdown",
   "metadata": {},
   "source": [
    "## 2. Geological model"
   ]
  },
  {
   "cell_type": "markdown",
   "metadata": {
    "tags": []
   },
   "source": [
    "### The ``create_and_add_intrusion`` function of the ``GeologicalModel`` class creates an ``IntrusionFeature`` in two steps: \n",
    "\n",
    "### Step 1 - Create the intrusion frame using the ``IntrusionFrameBuilder`` class:\n",
    "\n",
    "IntrusionFrameBuilder creates the intrusion structural frame.\n",
    "This object is a curvilinear coordinate system of the intrusion body, and it has three coordinates:\n",
    "> coordinate 0: it represents an approximate location of the roof or floor contact of the intrusion, and its gradient representes the growth or inflation of the magma. It is constrained using data from either the roof or floor contact. If no inflation data is available, it is assumed that the gradient of this coordinate is perpendicular to the stratigraphy.\n",
    "\n",
    "> coordinate 1: it represents the flow direction of the intrusion. Its gradient is parallel to the propagation of the magma, which can be constrained with flow direction measurements (e.g., AMS data). In this example, we only have contact data point, so we assume the propagation was parallel to the long axis of the intrusion. \n",
    "\n",
    "> coordinate 2: it is parallel to the long axis of the intrusion. \n",
    "\n",
    "The extent of the intrusion is defined as distances along the axes of the intrusion frame."
   ]
  },
  {
   "cell_type": "code",
   "execution_count": null,
   "metadata": {},
   "outputs": [],
   "source": [
    "intrusion_frame_data = model_data[model_data['feature_name'] == 'Voiseys Bay Intrusion Frame'].copy()\n",
    "intrusion_frame_data"
   ]
  },
  {
   "cell_type": "markdown",
   "metadata": {},
   "source": [
    "### Step 2 - Compute threshold distances to constrain the intrusion extent, using the ``IntrusionBuilder`` class:\n",
    "\n",
    "The IntrusionBuilder computes thresholds distances (along the structural frame coordinates) to constrain the intrusion lateral and vertical extent.\n",
    "\n",
    "Distances along the axis of coordinate 2 are computed to constraint the intrusion lateral extent, and distances along the axis of coordinate 0 are computed to constained its vertical extent. \n",
    "\n",
    "Thresholds values are restricted using conceptual geometrical models representing the expected shape of the intrusion.\n"
   ]
  },
  {
   "cell_type": "markdown",
   "metadata": {},
   "source": [
    "#### Conceptual model function to constraint lateral and vertical extent\n",
    "\n",
    "These conceptual model are used to define the geometry of the intrusion contact where there is no data available.\n",
    "\n",
    "They allow the modeler to integrate their interpretation of the intrusion geometry.\n",
    "\n",
    "Considering the spatial distribution of the data, we will use an *ellipsis* to constrain it lateral extent. \n",
    "And, we will test two geometries for the floor contac: an *oblique cone* to represent a wedge-shaped geometry, and a *constant thickness* to represent a tablet-shaped geometry "
   ]
  },
  {
   "cell_type": "code",
   "execution_count": null,
   "metadata": {},
   "outputs": [],
   "source": [
    "# Conceptual models\n",
    "\n",
    "def ellipse_function(\n",
    "    lateral_contact_data = pd.DataFrame() , model = False, minP=None, maxP=None, minS=None, maxS=None\n",
    "):\n",
    "    \n",
    "    if lateral_contact_data.empty:\n",
    "        return model, minP, maxP, minS, maxS\n",
    "    else:\n",
    "        if minP == None:\n",
    "            minP = lateral_contact_data[\"coord1\"].min()\n",
    "        if maxP == None:\n",
    "            maxP = lateral_contact_data[\"coord1\"].max()\n",
    "        if minS == None:\n",
    "            minS = lateral_contact_data[\"coord2\"].abs().min()\n",
    "        if maxS == None:\n",
    "            maxS = lateral_contact_data[\"coord2\"].max()\n",
    "\n",
    "        a = (maxP - minP) / 2\n",
    "        b = (maxS - minS) / 2\n",
    "\n",
    "        po = minP + (maxP - minP) / 2\n",
    "\n",
    "        p_locations = lateral_contact_data.loc[:, \"coord1\"].copy().to_numpy()\n",
    "\n",
    "        s = np.zeros([len(p_locations), 2])\n",
    "\n",
    "        s[np.logical_and(p_locations>minP, p_locations<maxP),0] =  b * np.sqrt(1 - np.power((p_locations[np.logical_and(p_locations>minP, p_locations<maxP)] - po) / a, 2)) \n",
    "        s[np.logical_and(p_locations>minP, p_locations<maxP),1] =  -b * np.sqrt(1 - np.power((p_locations[np.logical_and(p_locations>minP, p_locations<maxP)] - po) / a, 2)) \n",
    "\n",
    "        return s\n",
    "\n",
    "def obliquecone_function(othercontact_data = pd.DataFrame(), \n",
    "                         mean_growth=None, minP=None, maxP=None, minS=None, maxS=None, vertex=None): \n",
    "    # import math\n",
    "    \n",
    "    if othercontact_data.empty:\n",
    "        return mean_growth\n",
    "    \n",
    "    ps_locations = othercontact_data.loc[:,['coord1','coord2']].to_numpy()\n",
    "    \n",
    "    minP=1.5*minP\n",
    "    maxP=1.5*maxP \n",
    "    minS=1.5*minS\n",
    "    maxS=1.5*maxS\n",
    "    \n",
    "    a = (maxP-minP)/2 #semi-major axis\n",
    "    b = (maxS-minS)/2 #semi-minor axis\n",
    "    a2 = pow(a,2)\n",
    "    b2 = pow(b,2)\n",
    "    \n",
    "    po = minP + a #p coordinate of ellipsis centre\n",
    "    so = minS + b #s coordinate of ellipsis centre\n",
    "    \n",
    "    alpha = vertex[0] #p coordinate of vertex\n",
    "    beta = vertex[2] #g coordinate of vertex\n",
    "    gamma = vertex[1] #l coordinate of vertex\n",
    "    \n",
    "    growth = np.zeros([len(ps_locations),2]) #container for results\n",
    "    \n",
    "    p = ps_locations[:,0]\n",
    "    s = ps_locations[:,1]\n",
    "        \n",
    "    A = alpha - po\n",
    "    B = beta*(p[:] - alpha)\n",
    "    C = gamma - so\n",
    "    D = beta*(s[:] - gamma)\n",
    "        \n",
    "    F = pow(A*b,2) + pow(C*a,2) - a2*b2\n",
    "    G = 2*(B*A*b2 + C*D*a2)\n",
    "    H = pow(b*B,2) + pow(a*D,2)\n",
    "        \n",
    "    constant_g2 = F\n",
    "    constant_g = -2*F*beta - G\n",
    "    constant_1 = F*pow(beta,2) + G*beta + H\n",
    "        \n",
    "    discriminant = pow(constant_g,2) - 4*constant_g2*constant_1\n",
    "    discriminant[discriminant < 0] = 0\n",
    "\n",
    "    growth[:,0] = -(constant_g + np.sqrt(discriminant))/(2*constant_g2)\n",
    "    growth[:,1] = -(constant_g - np.sqrt(discriminant))/(2*constant_g2)\n",
    "        \n",
    "    return growth\n",
    "\n",
    "def thickness_constant_vertex(othercontact_data = pd.DataFrame(), \n",
    "                              mean_growth=None, minP=None, maxP=None, minS=None, maxS=None, vertex=None): \n",
    "    # import math\n",
    "    if othercontact_data.empty:\n",
    "        return mean_growth\n",
    "    \n",
    "    ps_locations = othercontact_data.loc[:,['coord1','coord2']].to_numpy()\n",
    "    \n",
    "    minP=1.5*minP\n",
    "    maxP=1.5*maxP \n",
    "    minS=1.5*minS\n",
    "    maxS=1.5*maxS\n",
    "    \n",
    "    a = (maxP-minP)/2 #semi-major axis\n",
    "    b = (maxS-minS)/2 #semi-minor axis\n",
    "    a2 = pow(a,2)\n",
    "    b2 = pow(b,2)\n",
    "    \n",
    "    po = minP + a #p coordinate of ellipsis centre\n",
    "    so = minS + b #s coordinate of ellipsis centre\n",
    "    \n",
    "    alpha = vertex[0] #p coordinate of vertex\n",
    "    beta = vertex[2] #g coordinate of vertex\n",
    "    gamma = vertex[1] #l coordinate of vertex\n",
    "    \n",
    "    growth = np.zeros([len(ps_locations),2]) #container for results\n",
    "    \n",
    "\n",
    "    growth[:,0] = alpha\n",
    "    growth[:,1] = alpha\n",
    "        \n",
    "    return growth"
   ]
  },
  {
   "cell_type": "markdown",
   "metadata": {},
   "source": [
    "## Create the 3D geological model.\n",
    "\n",
    "First, we build the host rock (conformable stratigraphy), and then we build the intrusion, whose geometry is controlled by the host rock geometry. "
   ]
  },
  {
   "cell_type": "code",
   "execution_count": null,
   "metadata": {},
   "outputs": [],
   "source": [
    "model = GeologicalModel(lower_extent,upper_extent)\n",
    "model.nsteps = [30,30,30]\n",
    "model.data = model_data\n",
    "\n",
    "conformable_feature = model.create_and_add_foliation('stratigraphy', nelements = 3000, solver = 'lu', interpolatortype = 'FDI')"
   ]
  },
  {
   "cell_type": "code",
   "execution_count": null,
   "metadata": {},
   "outputs": [],
   "source": [
    "viewer_data = LavaVuModelViewer(model, background='white')\n",
    "viewer_data.add_isosurface(conformable_feature, nslices = 6, paint_with = conformable_feature)\n",
    "\n",
    "viewer_data.add_points(intrusion_data.loc[:,['X','Y','Z']].to_numpy(), name = 'intrusion data', pointsize = 10)\n",
    "\n",
    "viewer_data.rotate([-86.563, -10.394, -0.255])\n",
    "viewer_data.interactive()"
   ]
  },
  {
   "cell_type": "code",
   "execution_count": null,
   "metadata": {
    "tags": []
   },
   "outputs": [],
   "source": [
    "intrusion_frame_parameters = {'type' : 'interpolated',\n",
    "                              'contact' :'roof', # reference contact to buil coordinate 0 of the intrusion frame\n",
    "                              'contact_anisotropies':[conformable_feature] # host rock controlling the intrusion geometry\n",
    "                             }\n",
    "\n",
    "vertical_conceptual_model = obliquecone_function   #change to 'parallelepiped_function'\n",
    "\n",
    "print(datetime.now().isoformat(timespec='seconds'))   \n",
    "\n",
    "VoiseysBay_Intrusion_Wedge = model.create_and_add_intrusion('Voiseys Bay Intrusion', intrusion_frame_name = 'Voiseys Bay Intrusion Frame',\n",
    "                                                            intrusion_frame_parameters = intrusion_frame_parameters,\n",
    "                                                            intrusion_lateral_extent_model = ellipse_function,\n",
    "                                                            intrusion_vertical_extent_model = vertical_conceptual_model,\n",
    "                                                            interpolatortype = 'FDI'\n",
    "                                                           )\n",
    "print(datetime.now().isoformat(timespec='seconds'))\n",
    "\n",
    "vertical_conceptual_model = thickness_constant_vertex\n",
    "VoiseysBay_Intrusion_Tablet = model.create_and_add_intrusion('Voiseys Bay Intrusion', intrusion_frame_name = 'Voiseys Bay Intrusion Frame',\n",
    "                                                             intrusion_frame_parameters = intrusion_frame_parameters,\n",
    "                                                             intrusion_lateral_extent_model = ellipse_function,\n",
    "                                                             intrusion_vertical_extent_model = vertical_conceptual_model,\n",
    "                                                             interpolatortype = 'FDI'\n",
    "                                                            )\n",
    "print(datetime.now().isoformat(timespec='seconds'))  "
   ]
  },
  {
   "cell_type": "markdown",
   "metadata": {},
   "source": [
    "## 3. Visualisation of 3D Geological Model"
   ]
  },
  {
   "cell_type": "code",
   "execution_count": null,
   "metadata": {},
   "outputs": [],
   "source": [
    "nn = 50 # improve model resolution by changing this value\n",
    "model.nsteps = [nn,nn,nn]"
   ]
  },
  {
   "cell_type": "code",
   "execution_count": null,
   "metadata": {},
   "outputs": [],
   "source": [
    "datetime.now().isoformat(timespec='seconds')   "
   ]
  },
  {
   "cell_type": "code",
   "execution_count": null,
   "metadata": {},
   "outputs": [],
   "source": [
    "viewer = LavaVuModelViewer(model, background='white')\n",
    "\n",
    "# add host rock\n",
    "# viewer.add_isosurface(conformable_feature['feature'], nslices = 3, colour = 'grey')\n",
    "\n",
    "# add intrusion data and intrusion contact isosurface\n",
    "viewer.add_points(intrusion_data.loc[:,['X','Y','Z']].to_numpy(), name = 'intrusion data', pointsize = 20)\n",
    "viewer.add_isosurface(VoiseysBay_Intrusion_Wedge, isovalue = 0, colour = 'red', name = 'Model with conic shape')\n",
    "viewer.add_isosurface(VoiseysBay_Intrusion_Tablet, isovalue = 0, colour = 'pink', name = 'Model with tablet shape')\n",
    "# viewer.add_scalar_field(VoiseysBay_Intrusion_Wedge)\n",
    "# viewer.add_section(y = 0.6, paint_with = VoiseysBay_Intrusion)\n",
    "\n",
    "viewer.xmin = 0 \n",
    "viewer.xmax = 1 \n",
    "viewer.ymin = 0 \n",
    "viewer.ymax = 1 \n",
    "\n",
    "viewer.rotate([-86.563, -10.394, -0.255])\n",
    "viewer.interactive()"
   ]
  },
  {
   "cell_type": "code",
   "execution_count": null,
   "metadata": {},
   "outputs": [],
   "source": [
    "datetime.now().isoformat(timespec='seconds')   "
   ]
  },
  {
   "cell_type": "markdown",
   "metadata": {},
   "source": [
    "## 4. Visualisation of intrusion frame"
   ]
  },
  {
   "cell_type": "code",
   "execution_count": null,
   "metadata": {},
   "outputs": [],
   "source": [
    "intrusion_frame = VoiseysBay_Intrusion_Wedge.intrusion_frame\n",
    "roof_data = intrusion_data[intrusion_data['intrusion_contact_type'] == 'roof'].loc[:,['X','Y','Z',]].to_numpy()"
   ]
  },
  {
   "cell_type": "code",
   "execution_count": null,
   "metadata": {},
   "outputs": [],
   "source": [
    "viewer_frame = LavaVuModelViewer(model, background='white')\n",
    "\n",
    "viewer_frame.add_isosurface(intrusion_frame[0], isovalue =0, colour = 'darkred')\n",
    "viewer_frame.add_isosurface(intrusion_frame[1], isovalue =0, colour = 'darkgreen')\n",
    "viewer_frame.add_isosurface(intrusion_frame[2], isovalue = 0, colour = 'blue')\n",
    "# viewer_frame.add_data(intrusion_frame[0])\n",
    "# viewer_frame.add_points(roof_data, name = 'roof data', pointsize = 10)\n",
    "# viewer_frame.add_data(intrusion_frame[0])\n",
    "# viewer_frame.add_data(intrusion_frame[1])\n",
    "# viewer_frame.add_data(intrusion_frame[2])\n",
    "\n",
    "viewer_frame.rotate([-86.563, -10.394, -0.255])\n",
    "viewer_frame.interactive()"
   ]
  },
  {
   "cell_type": "code",
   "execution_count": null,
   "metadata": {},
   "outputs": [],
   "source": [
    "# VoiseysBay_Intrusion_Wedge.intrusion_frame.builder[0].interpolator"
   ]
  },
  {
   "cell_type": "markdown",
   "metadata": {},
   "source": [
    "### 5. Check conditioning of the models"
   ]
  },
  {
   "cell_type": "code",
   "execution_count": null,
   "metadata": {},
   "outputs": [],
   "source": [
    "intrusion = VoiseysBay_Intrusion_Tablet\n",
    "intrusion_data = intrusion_data\n",
    "intrusion_data_xyz = intrusion_data.loc[:,['X','Y','Z',]].to_numpy()\n",
    "sf_array = intrusion.evaluate_value(model.scale(intrusion_data_xyz, inplace=False))\n",
    "\n",
    "import matplotlib.pyplot as plt\n",
    "plt.hist(sf_array) #, bins='auto')"
   ]
  },
  {
   "cell_type": "markdown",
   "metadata": {},
   "source": [
    "### 6. Visualize Lateral conceptual model"
   ]
  },
  {
   "cell_type": "code",
   "execution_count": null,
   "metadata": {},
   "outputs": [],
   "source": [
    "Intrusion = VoiseysBay_Intrusion_Tablet\n",
    "coordinate1 = np.linspace(-3000,4000,1000)\n",
    "\n",
    "lateral_data = Intrusion.builder.data_for_lateral_extent_calculation\n",
    "vertical_data = Intrusion.builder.data_for_vertical_extent_calculation\n",
    "threshold_values, residual_values, conceptual_values = Intrusion.interpolate_lateral_thresholds(coordinate1)\n",
    "\n",
    "plt.subplot(211) # Lateral extent simulated values and data     \n",
    "plt.plot(coordinate1, threshold_values[0],\"-\",c='orange', markersize = 10)\n",
    "plt.plot(coordinate1, conceptual_values[0],\"-\",c='green', markersize = 10)\n",
    "plt.plot(lateral_data[0].loc[:,'coord1'],lateral_data[0].loc[:,'coord2'],\"*\", c='darkorange', markersize = 10)\n",
    "plt.plot(lateral_data[0].loc[:,'coord1'],lateral_data[0].loc[:,'l_conceptual'],\"*\", c='darkgreen', markersize = 10)\n",
    "plt.plot(coordinate1,threshold_values[1],\"-\",c='red', markersize = 10)\n",
    "plt.plot(coordinate1,conceptual_values[1],\"-\",c='green', markersize = 10)\n",
    "plt.plot(lateral_data[1].loc[:,'coord1'],lateral_data[1].loc[:,'coord2'],\"*\", c='red', markersize = 10)\n",
    "plt.plot(lateral_data[1].loc[:,'coord1'],lateral_data[1].loc[:,'l_conceptual'],\"*\", c='darkgreen', markersize = 10)\n",
    "plt.plot(vertical_data[0].loc[:,'coord1'],vertical_data[0].loc[:,'coord2'],\"*\", c='black', markersize = 8)\n",
    "plt.plot(vertical_data[1].loc[:,'coord1'],vertical_data[1].loc[:,'coord2'],\"*\", c='black', markersize = 8)\n",
    "\n",
    "plt.subplot(212) # Lateral extent simulated values and data     \n",
    "plt.plot(coordinate1,residual_values[0],\"-\",c='red', markersize = 10)\n",
    "plt.plot(lateral_data[0].loc[:,'coord1'],lateral_data[0].loc[:,'l_residual'],\"*\", c='darkorange', markersize = 10)\n",
    "plt.plot(coordinate1,residual_values[1],\"-\",c='red', markersize = 10)\n",
    "plt.plot(lateral_data[1].loc[:,'coord1'],lateral_data[1].loc[:,'l_residual'],\"*\", c='darkorange', markersize = 10)\n",
    "\n",
    "plt.subplots_adjust(left=0.0, bottom=0.0, right=2, top=2, wspace=0.2, hspace=0.3)\n",
    "plt.show()"
   ]
  },
  {
   "cell_type": "code",
   "execution_count": null,
   "metadata": {},
   "outputs": [],
   "source": []
  }
 ],
 "metadata": {
  "kernelspec": {
   "display_name": "Python 3 (ipykernel)",
   "language": "python",
   "name": "python3"
  },
  "language_info": {
   "codemirror_mode": {
    "name": "ipython",
    "version": 3
   },
   "file_extension": ".py",
   "mimetype": "text/x-python",
   "name": "python",
   "nbconvert_exporter": "python",
   "pygments_lexer": "ipython3",
   "version": "3.9.16"
  }
 },
 "nbformat": 4,
 "nbformat_minor": 4
}
