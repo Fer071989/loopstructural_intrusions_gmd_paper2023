{
 "cells": [
  {
   "cell_type": "markdown",
   "metadata": {},
   "source": [
    "# Case Study 3 - Synthetic Laccolith\n",
    "- This example represent a laccolith, and it is built with 6 contact points: 3 contact points from the laccolith's roof and 3 contact points form the laccolith's floor"
   ]
  },
  {
   "cell_type": "code",
   "execution_count": null,
   "metadata": {},
   "outputs": [],
   "source": [
    "import numpy as np\n",
    "import pandas as pd\n",
    "import matplotlib.pyplot as plt\n",
    "\n",
    "# Loop library\n",
    "from LoopStructural import GeologicalModel\n",
    "from LoopStructural.visualisation import LavaVuModelViewer \n",
    "# from LoopStructural.modelling.intrusions import ellipse_function, parallelepiped_function"
   ]
  },
  {
   "cell_type": "code",
   "execution_count": null,
   "metadata": {},
   "outputs": [],
   "source": [
    "from datetime import datetime"
   ]
  },
  {
   "cell_type": "code",
   "execution_count": null,
   "metadata": {},
   "outputs": [],
   "source": [
    "lower_extent = [0,0,0]\n",
    "upper_extent = [1,1,1]"
   ]
  },
  {
   "cell_type": "markdown",
   "metadata": {},
   "source": [
    "## 1. Load data"
   ]
  },
  {
   "cell_type": "markdown",
   "metadata": {
    "tags": []
   },
   "source": [
    "### Input DataFrame description\n",
    "> feature_name = name of the geological feature to be modelled. \n",
    "\n",
    "> (X, Y, Z) = data points location\n",
    "\n",
    "> coord = structural frame coordinate\n",
    "\n",
    "> val = values of the scalar field for interpolation of geological features\n",
    "\n",
    "> (gx, gy, gz) = gradients of structural frame scalar fields\n",
    "\n",
    "> intrusion_contact_type = roof/top or floor/base\n",
    "\n",
    "> intrusion_side = TRUE if lateral contact, blank if not\n"
   ]
  },
  {
   "cell_type": "code",
   "execution_count": null,
   "metadata": {},
   "outputs": [],
   "source": [
    "model_data = pd.read_csv('Synthetic Laccolith.csv')\n",
    "intrusion_data = model_data[model_data['feature_name'] == 'laccolith'].copy()\n",
    "model_data.head()"
   ]
  },
  {
   "cell_type": "markdown",
   "metadata": {},
   "source": [
    "## 2. Geological model"
   ]
  },
  {
   "cell_type": "markdown",
   "metadata": {
    "tags": []
   },
   "source": [
    "### The ``create_and_add_intrusion`` function of the ``GeologicalModel`` class creates an ``IntrusionFeature`` in two steps: \n",
    "\n",
    "### Step 1 - Create the intrusion frame using the ``IntrusionFrameBuilder`` class:\n",
    "\n",
    "IntrusionFrameBuilder creates the intrusion structural frame.\n",
    "This object is a curvilinear coordinate system of the intrusion body, and it has three coordinates:\n",
    "> coordinate 0: it represents an approximate location of the roof or floor contact of the intrusion, and its gradient representes the growth or inflation of the magma. It is constrained using data from either the roof or floor contact. If no inflation data is available, it is assumed that the gradient of this coordinate is perpendicular to the stratigraphy.\n",
    "\n",
    "> coordinate 1: it represents the flow direction of the intrusion. Its gradient is parallel to the propagation of the magma, which can be constrained with flow direction measurements (e.g., AMS data). In this example, we only have contact data point, so we assume the propagation was parallel to the long axis of the intrusion. \n",
    "\n",
    "> coordinate 2: it is parallel to the long axis of the intrusion. \n",
    "\n",
    "The extent of the intrusion is defined as distances along the axes of the intrusion frame."
   ]
  },
  {
   "cell_type": "code",
   "execution_count": null,
   "metadata": {},
   "outputs": [],
   "source": [
    "intrusion_frame_data = model_data[model_data['feature_name'] == 'laccolith_frame'].copy()\n",
    "intrusion_frame_data"
   ]
  },
  {
   "cell_type": "markdown",
   "metadata": {},
   "source": [
    "### Step 2 - Compute threshold distances to constrain the intrusion extent, using the ``IntrusionBuilder`` class:\n",
    "\n",
    "The IntrusionBuilder computes thresholds distances (along the structural frame coordinates) to constrain the intrusion lateral and vertical extent.\n",
    "\n",
    "Distances along the axis of coordinate 2 are computed to constraint the intrusion lateral extent, and distances along the axis of coordinate 0 are computed to constained its vertical extent. \n",
    "\n",
    "Thresholds values are restricted using conceptual geometrical models representing the expected shape of the intrusion.\n"
   ]
  },
  {
   "cell_type": "markdown",
   "metadata": {},
   "source": [
    "#### Conceptual model function to constraint lateral and vertical extent\n",
    "\n",
    "These conceptual model are used to define the geometry of the intrusion contact where there is no data available.\n",
    "\n",
    "They allow the modeler to integrate their interpretation of the intrusion geometry.\n",
    "\n",
    "In this example, there are no lateral contact data, so the lateral extent of the lacolith is completely controlled by the lateral conceptual model. In this case we use an *ellipsis* to constrain it lateral extent. The roof of the laccolith is constrained using a bell-shaped curve. "
   ]
  },
  {
   "cell_type": "code",
   "execution_count": null,
   "metadata": {},
   "outputs": [],
   "source": [
    "# Conceptual models\n",
    "\n",
    "def ellipse_function(\n",
    "    lateral_contact_data = pd.DataFrame() , model = True, minP=None, maxP=None, minS=None, maxS=None\n",
    "):\n",
    "    \n",
    "    if lateral_contact_data.empty:\n",
    "        return model, minP, maxP, minS, maxS\n",
    "    else:\n",
    "        if minP == None:\n",
    "            minP = lateral_contact_data[\"coord1\"].min()\n",
    "        if maxP == None:\n",
    "            maxP = lateral_contact_data[\"coord1\"].max()\n",
    "        if minS == None:\n",
    "            minS = lateral_contact_data[\"coord2\"].abs().min()\n",
    "        if maxS == None:\n",
    "            maxS = lateral_contact_data[\"coord2\"].max()\n",
    "\n",
    "        a = (maxP - minP) / 2\n",
    "        b = (maxS - minS) / 2\n",
    "\n",
    "        po = minP + (maxP - minP) / 2\n",
    "\n",
    "        p_locations = lateral_contact_data.loc[:, \"coord1\"].copy().to_numpy()\n",
    "\n",
    "        s = np.zeros([len(p_locations), 2])\n",
    "\n",
    "        s[np.logical_and(p_locations>minP, p_locations<maxP),0] =  b * np.sqrt(1 - np.power((p_locations[np.logical_and(p_locations>minP, p_locations<maxP)] - po) / a, 2)) \n",
    "        s[np.logical_and(p_locations>minP, p_locations<maxP),1] =  -b * np.sqrt(1 - np.power((p_locations[np.logical_and(p_locations>minP, p_locations<maxP)] - po) / a, 2)) \n",
    "\n",
    "        return s\n",
    "\n",
    "def bell_shape(othercontact_data = pd.DataFrame(), mean_growth=None, minP=None, maxP=None, minS=None, maxS=None, vertex=None): \n",
    "    \n",
    "    if othercontact_data.empty:\n",
    "        return mean_growth\n",
    "    \n",
    "\n",
    "    c1c2_locations = othercontact_data.loc[:,['coord1','coord2']].to_numpy()\n",
    "    \n",
    "    midP = minP + (maxP-minP)/2\n",
    "    midS = minS + (maxS-minS)/2\n",
    "    \n",
    "    mean = midP\n",
    "    std = (maxP-minP)/2\n",
    "    max_c0 = -vertex[0]\n",
    "    x = c1c2_locations[:,0]\n",
    "    y_out =max_c0*1/(std * np.sqrt(2 * np.pi)) * np.exp( - (x - mean)**2 / (2 * std**2))\n",
    "    c0 = np.zeros([len(c1c2_locations),2])\n",
    "\n",
    "    c0[:,0] = y_out\n",
    "    c0[:,1] = y_out\n",
    "    return c0"
   ]
  },
  {
   "cell_type": "markdown",
   "metadata": {},
   "source": [
    "## Create the 3D geological model.\n",
    "\n",
    "First, we build the host rock (conformable stratigraphy), and then we build the intrusion, whose geometry is controlled by the host rock geometry. "
   ]
  },
  {
   "cell_type": "code",
   "execution_count": null,
   "metadata": {
    "tags": []
   },
   "outputs": [],
   "source": [
    "model = GeologicalModel(lower_extent,upper_extent)\n",
    "model.nsteps = [30,30,30]\n",
    "model.data = model_data\n",
    "\n",
    "conformable_feature = model.create_and_add_foliation('stratigraphy', nelements = 3000, solver = 'lu', interpolatortype = 'FDI')"
   ]
  },
  {
   "cell_type": "code",
   "execution_count": null,
   "metadata": {},
   "outputs": [],
   "source": [
    "viewer_data = LavaVuModelViewer(model, background='white')\n",
    "viewer_data.add_isosurface(conformable_feature, nslices = 10, paint_with = conformable_feature)\n",
    "\n",
    "viewer_data.add_points(intrusion_data.loc[:,['X','Y','Z']].to_numpy(), name = 'intrusion data', pointsize = 10)\n",
    "\n",
    "viewer_data.rotate([-87.74, 11.981, 0.71])\n",
    "viewer_data.interactive()"
   ]
  },
  {
   "cell_type": "code",
   "execution_count": null,
   "metadata": {},
   "outputs": [],
   "source": [
    "# Create intrusion\n",
    "intrusion_frame_parameters = {'type' : 'interpolated',\n",
    "                              'contact' :'floor', # reference contact to buil coordinate 0 of the intrusion frame\n",
    "                              'contact_anisotropies':[conformable_feature]} # host rock controlling the intrusion geometry\n",
    "\n",
    "vertical_conceptual_model = bell_shape\n",
    "\n",
    "print(datetime.now().isoformat(timespec='seconds'))   \n",
    "\n",
    "Laccolith = model.create_and_add_intrusion('laccolith', intrusion_frame_name = 'laccolith_frame',\n",
    "                                           intrusion_frame_parameters = intrusion_frame_parameters,\n",
    "                                           intrusion_lateral_extent_model = ellipse_function,\n",
    "                                           intrusion_vertical_extent_model = vertical_conceptual_model,\n",
    "                                          interpolatortype = 'FDI'\n",
    "                                          )\n",
    "\n",
    "print(datetime.now().isoformat(timespec='seconds'))  "
   ]
  },
  {
   "cell_type": "markdown",
   "metadata": {},
   "source": [
    "## 3. Visualisation of intrusion frame"
   ]
  },
  {
   "cell_type": "code",
   "execution_count": null,
   "metadata": {},
   "outputs": [],
   "source": [
    "intrusion_frame = Laccolith.intrusion_frame\n",
    "\n",
    "viewer_frame = LavaVuModelViewer(model, background='white')\n",
    "\n",
    "viewer_frame.add_isosurface(intrusion_frame[0], isovalue =0, colour = 'darkred')\n",
    "viewer_frame.add_isosurface(intrusion_frame[1], isovalue =0, colour = 'darkgreen')\n",
    "viewer_frame.add_isosurface(intrusion_frame[2], isovalue = 0, colour = 'blue')\n",
    "\n",
    "viewer_frame.add_points(intrusion_data.loc[:,['X','Y','Z']].to_numpy(), name = 'intrusion data', pointsize = 10)\n",
    "viewer_frame.add_points(np.array(lower_extent), name = 'low', pointsize = 1)\n",
    "viewer_frame.add_points(np.array(upper_extent), name = 'upp', pointsize = 1)\n",
    "\n",
    "# viewer_frame.add_data(intrusion_frame[0])\n",
    "viewer_frame.add_data(intrusion_frame[1])\n",
    "viewer_frame.add_data(intrusion_frame[2])\n",
    "viewer_frame.rotate([-87.74, 11.981, 0.71])\n",
    "viewer_frame.interactive()"
   ]
  },
  {
   "cell_type": "markdown",
   "metadata": {},
   "source": [
    "## 4. Visualization of 3D Geological Model"
   ]
  },
  {
   "cell_type": "code",
   "execution_count": null,
   "metadata": {},
   "outputs": [],
   "source": [
    "nn = 30 # improve model resolution by changing this value\n",
    "model.nsteps = [nn,nn,nn]"
   ]
  },
  {
   "cell_type": "code",
   "execution_count": null,
   "metadata": {},
   "outputs": [],
   "source": [
    "datetime.now().isoformat(timespec='seconds')   "
   ]
  },
  {
   "cell_type": "code",
   "execution_count": null,
   "metadata": {},
   "outputs": [],
   "source": [
    "viewer = LavaVuModelViewer(model, background='white')\n",
    "\n",
    "# add host rock\n",
    "# viewer.add_isosurface(conformable_feature, nslices = 10, paint_with = conformable_feature)\n",
    "\n",
    "# add intrusion data and intrusion contact isosurface\n",
    "viewer.add_points(intrusion_data.loc[:,['X','Y','Z']].to_numpy(), name = 'intrusion data', pointsize = 15)\n",
    "viewer.add_isosurface(Laccolith, isovalue = 0, colour = 'orchid')\n",
    "\n",
    "# viewer.add_section(axis = 'y', value = 0.5, paint_with = Laccolith,  name = 'section_y')\n",
    "# viewer.add_section(axis = 'x', value = 0.5, paint_with = Laccolith,  name = 'section_x')\n",
    "\n",
    "viewer.add_points(np.array(lower_extent), name = 'low', pointsize = 1)\n",
    "viewer.add_points(np.array(upper_extent), name = 'upp', pointsize = 1)\n",
    "\n",
    "viewer.xmin = 0 \n",
    "viewer.xmax = 1 \n",
    "viewer.ymin = 0 \n",
    "viewer.ymax = 1 \n",
    "viewer.interactive()"
   ]
  },
  {
   "cell_type": "code",
   "execution_count": null,
   "metadata": {},
   "outputs": [],
   "source": [
    "datetime.now().isoformat(timespec='seconds')   "
   ]
  },
  {
   "cell_type": "markdown",
   "metadata": {},
   "source": [
    "## 5. Post-intrusion stratigraphy\n",
    "\n",
    "In this example, we use the geometry of the intrusion to modified the host rock, so it captures the geometry after the emplacement of the laccolith. \n",
    "The intrusion frame and the contact points are used to compute the vertical and lateral variation of the intrusion contact, along the frame axes. This gives us a characterization of the intrusion thickness along the coordinate 1 and 2. We can use this to modified the scalar field of the host rock, so if shows the uplifting of the host rock generated by the growth of the laccolith. \n"
   ]
  },
  {
   "cell_type": "code",
   "execution_count": null,
   "metadata": {},
   "outputs": [],
   "source": [
    "from LoopStructural.modelling.features import BaseFeature\n",
    "\n",
    "class PostIntrusionStratigraphy(BaseFeature):\n",
    "    def __init__(\n",
    "        self, name=\"post-intrusion stratigraphy\", gradient_function=None, model=None,\n",
    "        intrusion = None,\n",
    "        pre_intrusion_stratigraphy = None,\n",
    "        emplacement_mechanism = 'floor depression'\n",
    "    ):\n",
    "        BaseFeature.__init__(self, name = name)\n",
    "        \n",
    "        self.name = name\n",
    "        self.gradient_function = gradient_function\n",
    "        self.model = model\n",
    "        self.pre_intrusion_stratigraphy = pre_intrusion_stratigraphy\n",
    "        self.intrusion = intrusion\n",
    "        self.emplacement_mechanism = emplacement_mechanism\n",
    "        \n",
    "    def min(self):\n",
    "\n",
    "        if self.model is None:\n",
    "            return 0\n",
    "        return np.nanmin(self.evaluate_value(self.model.regular_grid((10, 10, 10))))\n",
    "\n",
    "    def max(self):\n",
    "        \"\"\"\n",
    "        Calculate average of the support values\n",
    "\n",
    "        Returns\n",
    "        -------\n",
    "        max : double\n",
    "            max value of the feature evaluated on a (10,10,10) grid in model area\n",
    "        \"\"\"\n",
    "        if self.model is None:\n",
    "            return 0\n",
    "        return np.nanmax(self.evaluate_value(self.model.regular_grid((10, 10, 10))))\n",
    "\n",
    "    def evaluate_value(self, xyz):\n",
    "        v = np.zeros((xyz.shape[0]))\n",
    "        \n",
    "        pre_intrusion_stratigraphy_values = self.pre_intrusion_stratigraphy.evaluate_value(xyz)\n",
    "        intrusion_points = self.intrusion.evaluate_value(xyz)\n",
    "               \n",
    "        intrusion_coord0_pts = self.intrusion.intrusion_frame[0].evaluate_value(xyz)\n",
    "        intrusion_coord1_pts = self.intrusion.intrusion_frame[1].evaluate_value(xyz)\n",
    "        intrusion_coord2_pts = self.intrusion.intrusion_frame[2].evaluate_value(xyz)\n",
    "        \n",
    "        thresholds, residuals, conceptual = self.intrusion.interpolate_lateral_thresholds(intrusion_coord1_pts)\n",
    "        c2_minside_threshold = thresholds[0]\n",
    "        c2_maxside_threshold = thresholds[1]\n",
    "        \n",
    "        thresholds, residuals, conceptual = self.intrusion.interpolate_vertical_thresholds(intrusion_coord1_pts, intrusion_coord2_pts)\n",
    "        c0_minside_threshold = thresholds[1]\n",
    "        c0_maxside_threshold = thresholds[0]\n",
    "        \n",
    "        intrusion_contact_points = self.intrusion.intrusion_frame.builder.intrusion_network_data.loc[:,['X','Y','Z']].to_numpy()\n",
    "        intrusion_contact_points_vals = self.pre_intrusion_stratigraphy.evaluate_value(intrusion_contact_points)\n",
    "        # print(intrusion_contact_points_vals)\n",
    "        \n",
    "        thickness = c0_maxside_threshold - c0_minside_threshold\n",
    "        \n",
    "        if self.emplacement_mechanism == 'floor depression':\n",
    "            modified_stratigraphy = pre_intrusion_stratigraphy_values - thickness\n",
    "        elif self.emplacement_mechanism == 'roof lifting':\n",
    "            modified_stratigraphy = pre_intrusion_stratigraphy_values - thickness\n",
    "            \n",
    "        mask_inside_intrusion = (intrusion_coord0_pts>=c0_minside_threshold)*(intrusion_coord0_pts<=c0_maxside_threshold)*(intrusion_coord2_pts>=c2_minside_threshold)*(intrusion_coord2_pts<=c2_maxside_threshold)\n",
    "        \n",
    "        mask = np.logical_and(intrusion_coord0_pts>c0_minside_threshold,\n",
    "                              np.logical_and(intrusion_coord2_pts>=(c2_minside_threshold-1),\n",
    "                              intrusion_coord2_pts<=(c2_maxside_threshold+1)))\n",
    "        \n",
    "        # post_stratigraphy_values = modified_stratigraphy\n",
    "        \n",
    "        post_stratigraphy_values = pre_intrusion_stratigraphy_values\n",
    "        \n",
    "        post_stratigraphy_values[mask] = modified_stratigraphy[mask]\n",
    "        post_stratigraphy_values[mask_inside_intrusion] = np.mean(intrusion_contact_points_vals)\n",
    "\n",
    "        return post_stratigraphy_values #, c0_maxside_threshold, c0_minside_threshold\n",
    "    \n",
    "    def evaluate_value_original(self, xyz):\n",
    "        v = np.zeros((xyz.shape[0]))\n",
    "        \n",
    "        pre_intrusion_stratigraphy_values = self.pre_intrusion_stratigraphy.evaluate_value(xyz)\n",
    "        intrusion_points = self.intrusion.evaluate_value(xyz)\n",
    "               \n",
    "        intrusion_coord0_pts = self.intrusion.intrusion_frame[0].evaluate_value(xyz)\n",
    "        intrusion_coord1_pts = self.intrusion.intrusion_frame[1].evaluate_value(xyz)\n",
    "        intrusion_coord2_pts = self.intrusion.intrusion_frame[2].evaluate_value(xyz)\n",
    "        \n",
    "        thresholds, residuals, conceptual = self.intrusion.interpolate_lateral_thresholds(intrusion_coord1_pts)\n",
    "        c2_minside_threshold = thresholds[0]\n",
    "        c2_maxside_threshold = thresholds[1]\n",
    "        \n",
    "        thresholds, residuals, conceptual = self.intrusion.interpolate_vertical_thresholds(intrusion_coord1_pts, intrusion_coord2_pts)\n",
    "        c0_minside_threshold = thresholds[1]\n",
    "        c0_maxside_threshold = thresholds[0]\n",
    "\n",
    "    def evaluate_gradient(self, xyz):\n",
    "        v = np.zeros((xyz.shape[0], 3))\n",
    "        if self.gradient_function is None:\n",
    "            v[:, :] = np.nan\n",
    "        else:\n",
    "            v[:, :] = self.gradient_function(xyz)\n",
    "        return v\n",
    "\n",
    "    def min(self):\n",
    "        return self._min\n",
    "\n",
    "    def max(self):\n",
    "        return self._max"
   ]
  },
  {
   "cell_type": "code",
   "execution_count": null,
   "metadata": {},
   "outputs": [],
   "source": [
    "post_intrusion_strat = PostIntrusionStratigraphy(model=model,\n",
    "                                                 intrusion = Laccolith,\n",
    "                                                 pre_intrusion_stratigraphy = conformable_feature,\n",
    "                                                 emplacement_mechanism = 'roof lifting')"
   ]
  },
  {
   "cell_type": "code",
   "execution_count": null,
   "metadata": {},
   "outputs": [],
   "source": [
    "viewer_post_intrusion = LavaVuModelViewer(model, background='white')\n",
    "# viewer_post_intrusion.nsteps = [60,60,60]\n",
    "\n",
    "viewer_post_intrusion.add_isosurface(post_intrusion_strat, slices = [0, 0.1, 0.2, 0.3, 0.4, 0.5, 0.6], paint_with =post_intrusion_strat)\n",
    "viewer_post_intrusion.add_isosurface(conformable_feature, slices = [-0.1], paint_with =conformable_feature)\n",
    "viewer_post_intrusion.add_isosurface(Laccolith, isovalue = 0, colour = 'orchid')\n",
    "viewer_post_intrusion.add_section(x = 0.5, paint_with = post_intrusion_strat, name = 'post int strat')\n",
    "viewer_post_intrusion.add_section(x = 0.49, paint_with = conformable_feature, name = 'pre int strat')\n",
    "# viewer_post_intrusion.add_scalar_field(Laccolith)\n",
    "viewer_post_intrusion.ymin=0\n",
    "viewer_post_intrusion.ymax=1\n",
    "viewer_post_intrusion.xmin=0\n",
    "viewer_post_intrusion.xmax=1\n",
    "viewer_post_intrusion.rotate([0,90,90])\n",
    "viewer_post_intrusion.interactive()"
   ]
  },
  {
   "cell_type": "markdown",
   "metadata": {},
   "source": [
    "## 4. Visualisation of intrusion frame"
   ]
  },
  {
   "cell_type": "code",
   "execution_count": null,
   "metadata": {},
   "outputs": [],
   "source": [
    "viewer2 = LavaVuModelViewer(model, background='white')\n",
    "\n",
    "viewer2.add_isosurface(intrusion_frame[0], isovalue =0, colour = 'darkred')\n",
    "viewer2.add_isosurface(intrusion_frame[1], isovalue =0, colour = 'darkgreen')\n",
    "viewer2.add_isosurface(intrusion_frame[2], isovalue = 0, colour = 'blue')\n",
    "viewer2.add_data(intrusion_frame[0])\n",
    "viewer2.rotate([0,90,90])\n",
    "viewer2.interactive()\n",
    "viewer2.interactive()"
   ]
  },
  {
   "cell_type": "code",
   "execution_count": null,
   "metadata": {},
   "outputs": [],
   "source": []
  }
 ],
 "metadata": {
  "kernelspec": {
   "display_name": "Python 3 (ipykernel)",
   "language": "python",
   "name": "python3"
  },
  "language_info": {
   "codemirror_mode": {
    "name": "ipython",
    "version": 3
   },
   "file_extension": ".py",
   "mimetype": "text/x-python",
   "name": "python",
   "nbconvert_exporter": "python",
   "pygments_lexer": "ipython3",
   "version": "3.9.16"
  }
 },
 "nbformat": 4,
 "nbformat_minor": 4
}
